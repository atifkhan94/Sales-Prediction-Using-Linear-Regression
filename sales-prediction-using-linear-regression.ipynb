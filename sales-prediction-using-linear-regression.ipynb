{
 "cells": [
  {
   "cell_type": "markdown",
   "id": "307ce483",
   "metadata": {
    "execution": {
     "iopub.execute_input": "2025-02-27T15:42:14.830109Z",
     "iopub.status.busy": "2025-02-27T15:42:14.829129Z",
     "iopub.status.idle": "2025-02-27T15:42:14.839937Z",
     "shell.execute_reply": "2025-02-27T15:42:14.837175Z",
     "shell.execute_reply.started": "2025-02-27T15:42:14.830063Z"
    },
    "papermill": {
     "duration": 0.008402,
     "end_time": "2025-02-27T15:47:56.053499",
     "exception": false,
     "start_time": "2025-02-27T15:47:56.045097",
     "status": "completed"
    },
    "tags": []
   },
   "source": [
    " Sales Prediction Usin Linear Regression"
   ]
  },
  {
   "cell_type": "code",
   "execution_count": 1,
   "id": "18b0bfe1",
   "metadata": {
    "execution": {
     "iopub.execute_input": "2025-02-27T15:47:56.070488Z",
     "iopub.status.busy": "2025-02-27T15:47:56.070142Z",
     "iopub.status.idle": "2025-02-27T15:48:02.844994Z",
     "shell.execute_reply": "2025-02-27T15:48:02.843721Z"
    },
    "papermill": {
     "duration": 6.7855,
     "end_time": "2025-02-27T15:48:02.847059",
     "exception": false,
     "start_time": "2025-02-27T15:47:56.061559",
     "status": "completed"
    },
    "tags": []
   },
   "outputs": [
    {
     "name": "stdout",
     "output_type": "stream",
     "text": [
      "Requirement already satisfied: kagglehub in /usr/local/lib/python3.10/dist-packages (0.3.9)\r\n",
      "Requirement already satisfied: packaging in /usr/local/lib/python3.10/dist-packages (from kagglehub) (24.2)\r\n",
      "Requirement already satisfied: pyyaml in /usr/local/lib/python3.10/dist-packages (from kagglehub) (6.0.2)\r\n",
      "Requirement already satisfied: requests in /usr/local/lib/python3.10/dist-packages (from kagglehub) (2.32.3)\r\n",
      "Requirement already satisfied: tqdm in /usr/local/lib/python3.10/dist-packages (from kagglehub) (4.67.1)\r\n",
      "Requirement already satisfied: charset-normalizer<4,>=2 in /usr/local/lib/python3.10/dist-packages (from requests->kagglehub) (3.4.1)\r\n",
      "Requirement already satisfied: idna<4,>=2.5 in /usr/local/lib/python3.10/dist-packages (from requests->kagglehub) (3.10)\r\n",
      "Requirement already satisfied: urllib3<3,>=1.21.1 in /usr/local/lib/python3.10/dist-packages (from requests->kagglehub) (2.3.0)\r\n",
      "Requirement already satisfied: certifi>=2017.4.17 in /usr/local/lib/python3.10/dist-packages (from requests->kagglehub) (2025.1.31)\r\n"
     ]
    }
   ],
   "source": [
    "import numpy as np\n",
    "import pandas as pd\n",
    "!pip install kagglehub\n",
    "import kagglehub"
   ]
  },
  {
   "cell_type": "code",
   "execution_count": 2,
   "id": "b040a30d",
   "metadata": {
    "execution": {
     "iopub.execute_input": "2025-02-27T15:48:02.865273Z",
     "iopub.status.busy": "2025-02-27T15:48:02.864544Z",
     "iopub.status.idle": "2025-02-27T15:48:04.382580Z",
     "shell.execute_reply": "2025-02-27T15:48:04.381507Z"
    },
    "papermill": {
     "duration": 1.529264,
     "end_time": "2025-02-27T15:48:04.384479",
     "exception": false,
     "start_time": "2025-02-27T15:48:02.855215",
     "status": "completed"
    },
    "tags": []
   },
   "outputs": [],
   "source": [
    "import matplotlib.pyplot as plt\n",
    "import seaborn as sns"
   ]
  },
  {
   "cell_type": "code",
   "execution_count": 3,
   "id": "a9af8d86",
   "metadata": {
    "execution": {
     "iopub.execute_input": "2025-02-27T15:48:04.401969Z",
     "iopub.status.busy": "2025-02-27T15:48:04.401456Z",
     "iopub.status.idle": "2025-02-27T15:48:04.405824Z",
     "shell.execute_reply": "2025-02-27T15:48:04.404876Z"
    },
    "papermill": {
     "duration": 0.014683,
     "end_time": "2025-02-27T15:48:04.407454",
     "exception": false,
     "start_time": "2025-02-27T15:48:04.392771",
     "status": "completed"
    },
    "tags": []
   },
   "outputs": [],
   "source": [
    "import warnings\n",
    "warnings.filterwarnings(\"ignore\")"
   ]
  },
  {
   "cell_type": "code",
   "execution_count": 4,
   "id": "ce316b3e",
   "metadata": {
    "execution": {
     "iopub.execute_input": "2025-02-27T15:48:04.424238Z",
     "iopub.status.busy": "2025-02-27T15:48:04.423814Z",
     "iopub.status.idle": "2025-02-27T15:48:04.427718Z",
     "shell.execute_reply": "2025-02-27T15:48:04.426758Z"
    },
    "papermill": {
     "duration": 0.014134,
     "end_time": "2025-02-27T15:48:04.429375",
     "exception": false,
     "start_time": "2025-02-27T15:48:04.415241",
     "status": "completed"
    },
    "tags": []
   },
   "outputs": [],
   "source": [
    "#Loading the dataset"
   ]
  },
  {
   "cell_type": "code",
   "execution_count": 5,
   "id": "408d2992",
   "metadata": {
    "execution": {
     "iopub.execute_input": "2025-02-27T15:48:04.447501Z",
     "iopub.status.busy": "2025-02-27T15:48:04.447110Z",
     "iopub.status.idle": "2025-02-27T15:48:04.469746Z",
     "shell.execute_reply": "2025-02-27T15:48:04.468699Z"
    },
    "papermill": {
     "duration": 0.034474,
     "end_time": "2025-02-27T15:48:04.471727",
     "exception": false,
     "start_time": "2025-02-27T15:48:04.437253",
     "status": "completed"
    },
    "tags": []
   },
   "outputs": [],
   "source": [
    "advertising= pd.read_csv('/kaggle/input/advertising/advertising.csv')"
   ]
  },
  {
   "cell_type": "code",
   "execution_count": 6,
   "id": "ccd4c2b2",
   "metadata": {
    "execution": {
     "iopub.execute_input": "2025-02-27T15:48:04.488643Z",
     "iopub.status.busy": "2025-02-27T15:48:04.488249Z",
     "iopub.status.idle": "2025-02-27T15:48:04.492073Z",
     "shell.execute_reply": "2025-02-27T15:48:04.491087Z"
    },
    "papermill": {
     "duration": 0.014221,
     "end_time": "2025-02-27T15:48:04.493812",
     "exception": false,
     "start_time": "2025-02-27T15:48:04.479591",
     "status": "completed"
    },
    "tags": []
   },
   "outputs": [],
   "source": [
    "#Inspecting the dataset"
   ]
  },
  {
   "cell_type": "code",
   "execution_count": 7,
   "id": "83f47461",
   "metadata": {
    "execution": {
     "iopub.execute_input": "2025-02-27T15:48:04.511278Z",
     "iopub.status.busy": "2025-02-27T15:48:04.510930Z",
     "iopub.status.idle": "2025-02-27T15:48:04.538415Z",
     "shell.execute_reply": "2025-02-27T15:48:04.537378Z"
    },
    "papermill": {
     "duration": 0.038195,
     "end_time": "2025-02-27T15:48:04.540370",
     "exception": false,
     "start_time": "2025-02-27T15:48:04.502175",
     "status": "completed"
    },
    "tags": []
   },
   "outputs": [
    {
     "data": {
      "text/html": [
       "<div>\n",
       "<style scoped>\n",
       "    .dataframe tbody tr th:only-of-type {\n",
       "        vertical-align: middle;\n",
       "    }\n",
       "\n",
       "    .dataframe tbody tr th {\n",
       "        vertical-align: top;\n",
       "    }\n",
       "\n",
       "    .dataframe thead th {\n",
       "        text-align: right;\n",
       "    }\n",
       "</style>\n",
       "<table border=\"1\" class=\"dataframe\">\n",
       "  <thead>\n",
       "    <tr style=\"text-align: right;\">\n",
       "      <th></th>\n",
       "      <th>TV</th>\n",
       "      <th>Radio</th>\n",
       "      <th>Newspaper</th>\n",
       "      <th>Sales</th>\n",
       "    </tr>\n",
       "  </thead>\n",
       "  <tbody>\n",
       "    <tr>\n",
       "      <th>0</th>\n",
       "      <td>230.1</td>\n",
       "      <td>37.8</td>\n",
       "      <td>69.2</td>\n",
       "      <td>22.1</td>\n",
       "    </tr>\n",
       "    <tr>\n",
       "      <th>1</th>\n",
       "      <td>44.5</td>\n",
       "      <td>39.3</td>\n",
       "      <td>45.1</td>\n",
       "      <td>10.4</td>\n",
       "    </tr>\n",
       "    <tr>\n",
       "      <th>2</th>\n",
       "      <td>17.2</td>\n",
       "      <td>45.9</td>\n",
       "      <td>69.3</td>\n",
       "      <td>12.0</td>\n",
       "    </tr>\n",
       "    <tr>\n",
       "      <th>3</th>\n",
       "      <td>151.5</td>\n",
       "      <td>41.3</td>\n",
       "      <td>58.5</td>\n",
       "      <td>16.5</td>\n",
       "    </tr>\n",
       "    <tr>\n",
       "      <th>4</th>\n",
       "      <td>180.8</td>\n",
       "      <td>10.8</td>\n",
       "      <td>58.4</td>\n",
       "      <td>17.9</td>\n",
       "    </tr>\n",
       "  </tbody>\n",
       "</table>\n",
       "</div>"
      ],
      "text/plain": [
       "      TV  Radio  Newspaper  Sales\n",
       "0  230.1   37.8       69.2   22.1\n",
       "1   44.5   39.3       45.1   10.4\n",
       "2   17.2   45.9       69.3   12.0\n",
       "3  151.5   41.3       58.5   16.5\n",
       "4  180.8   10.8       58.4   17.9"
      ]
     },
     "execution_count": 7,
     "metadata": {},
     "output_type": "execute_result"
    }
   ],
   "source": [
    "advertising.head()"
   ]
  },
  {
   "cell_type": "code",
   "execution_count": 8,
   "id": "c800f804",
   "metadata": {
    "execution": {
     "iopub.execute_input": "2025-02-27T15:48:04.557903Z",
     "iopub.status.busy": "2025-02-27T15:48:04.557516Z",
     "iopub.status.idle": "2025-02-27T15:48:04.562947Z",
     "shell.execute_reply": "2025-02-27T15:48:04.562134Z"
    },
    "papermill": {
     "duration": 0.015891,
     "end_time": "2025-02-27T15:48:04.564425",
     "exception": false,
     "start_time": "2025-02-27T15:48:04.548534",
     "status": "completed"
    },
    "tags": []
   },
   "outputs": [
    {
     "data": {
      "text/plain": [
       "(200, 4)"
      ]
     },
     "execution_count": 8,
     "metadata": {},
     "output_type": "execute_result"
    }
   ],
   "source": [
    "advertising.shape"
   ]
  },
  {
   "cell_type": "code",
   "execution_count": 9,
   "id": "a8c12a43",
   "metadata": {
    "execution": {
     "iopub.execute_input": "2025-02-27T15:48:04.581531Z",
     "iopub.status.busy": "2025-02-27T15:48:04.581176Z",
     "iopub.status.idle": "2025-02-27T15:48:04.607131Z",
     "shell.execute_reply": "2025-02-27T15:48:04.605924Z"
    },
    "papermill": {
     "duration": 0.036687,
     "end_time": "2025-02-27T15:48:04.609024",
     "exception": false,
     "start_time": "2025-02-27T15:48:04.572337",
     "status": "completed"
    },
    "tags": []
   },
   "outputs": [
    {
     "name": "stdout",
     "output_type": "stream",
     "text": [
      "<class 'pandas.core.frame.DataFrame'>\n",
      "RangeIndex: 200 entries, 0 to 199\n",
      "Data columns (total 4 columns):\n",
      " #   Column     Non-Null Count  Dtype  \n",
      "---  ------     --------------  -----  \n",
      " 0   TV         200 non-null    float64\n",
      " 1   Radio      200 non-null    float64\n",
      " 2   Newspaper  200 non-null    float64\n",
      " 3   Sales      200 non-null    float64\n",
      "dtypes: float64(4)\n",
      "memory usage: 6.4 KB\n"
     ]
    }
   ],
   "source": [
    "advertising.info()"
   ]
  },
  {
   "cell_type": "code",
   "execution_count": 10,
   "id": "f740a62c",
   "metadata": {
    "execution": {
     "iopub.execute_input": "2025-02-27T15:48:04.627343Z",
     "iopub.status.busy": "2025-02-27T15:48:04.626958Z",
     "iopub.status.idle": "2025-02-27T15:48:04.634075Z",
     "shell.execute_reply": "2025-02-27T15:48:04.633195Z"
    },
    "papermill": {
     "duration": 0.018437,
     "end_time": "2025-02-27T15:48:04.635702",
     "exception": false,
     "start_time": "2025-02-27T15:48:04.617265",
     "status": "completed"
    },
    "tags": []
   },
   "outputs": [
    {
     "data": {
      "text/plain": [
       "TV           0\n",
       "Radio        0\n",
       "Newspaper    0\n",
       "Sales        0\n",
       "dtype: int64"
      ]
     },
     "execution_count": 10,
     "metadata": {},
     "output_type": "execute_result"
    }
   ],
   "source": [
    "advertising.isnull().sum()"
   ]
  },
  {
   "cell_type": "code",
   "execution_count": 11,
   "id": "eb7214b9",
   "metadata": {
    "execution": {
     "iopub.execute_input": "2025-02-27T15:48:04.653112Z",
     "iopub.status.busy": "2025-02-27T15:48:04.652747Z",
     "iopub.status.idle": "2025-02-27T15:48:05.274765Z",
     "shell.execute_reply": "2025-02-27T15:48:05.273683Z"
    },
    "papermill": {
     "duration": 0.63315,
     "end_time": "2025-02-27T15:48:05.277058",
     "exception": false,
     "start_time": "2025-02-27T15:48:04.643908",
     "status": "completed"
    },
    "tags": []
   },
   "outputs": [
    {
     "data": {
      "image/png": "[encoded data removed]",
      "text/plain": [
       "<Figure size 750x250 with 3 Axes>"
      ]
     },
     "metadata": {},
     "output_type": "display_data"
    }
   ],
   "source": [
    "sns.pairplot(data=advertising, x_vars=[\"TV\",\"Radio\",\"Newspaper\"], y_vars=\"Sales\")\n",
    "plt.show()"
   ]
  },
  {
   "cell_type": "code",
   "execution_count": 12,
   "id": "a19f8b09",
   "metadata": {
    "execution": {
     "iopub.execute_input": "2025-02-27T15:48:05.296906Z",
     "iopub.status.busy": "2025-02-27T15:48:05.296516Z",
     "iopub.status.idle": "2025-02-27T15:48:05.520671Z",
     "shell.execute_reply": "2025-02-27T15:48:05.519618Z"
    },
    "papermill": {
     "duration": 0.236234,
     "end_time": "2025-02-27T15:48:05.522705",
     "exception": false,
     "start_time": "2025-02-27T15:48:05.286471",
     "status": "completed"
    },
    "tags": []
   },
   "outputs": [
    {
     "data": {
      "image/png": "[encoded data removed]",
      "text/plain": [
       "<Figure size 640x480 with 2 Axes>"
      ]
     },
     "metadata": {},
     "output_type": "display_data"
    }
   ],
   "source": [
    "sns.heatmap(advertising.corr(),cmap=\"Greens\", annot=True)\n",
    "plt.show()"
   ]
  },
  {
   "cell_type": "code",
   "execution_count": 13,
   "id": "0174464c",
   "metadata": {
    "execution": {
     "iopub.execute_input": "2025-02-27T15:48:05.543973Z",
     "iopub.status.busy": "2025-02-27T15:48:05.543545Z",
     "iopub.status.idle": "2025-02-27T15:48:05.547872Z",
     "shell.execute_reply": "2025-02-27T15:48:05.546944Z"
    },
    "papermill": {
     "duration": 0.016939,
     "end_time": "2025-02-27T15:48:05.549477",
     "exception": false,
     "start_time": "2025-02-27T15:48:05.532538",
     "status": "completed"
    },
    "tags": []
   },
   "outputs": [],
   "source": [
    "X=advertising[\"TV\"]\n",
    "y=advertising[\"Sales\"]"
   ]
  },
  {
   "cell_type": "code",
   "execution_count": 14,
   "id": "467f4f93",
   "metadata": {
    "execution": {
     "iopub.execute_input": "2025-02-27T15:48:05.569931Z",
     "iopub.status.busy": "2025-02-27T15:48:05.569558Z",
     "iopub.status.idle": "2025-02-27T15:48:05.576038Z",
     "shell.execute_reply": "2025-02-27T15:48:05.575172Z"
    },
    "papermill": {
     "duration": 0.018461,
     "end_time": "2025-02-27T15:48:05.577599",
     "exception": false,
     "start_time": "2025-02-27T15:48:05.559138",
     "status": "completed"
    },
    "tags": []
   },
   "outputs": [
    {
     "data": {
      "text/plain": [
       "0    230.1\n",
       "1     44.5\n",
       "2     17.2\n",
       "3    151.5\n",
       "4    180.8\n",
       "Name: TV, dtype: float64"
      ]
     },
     "execution_count": 14,
     "metadata": {},
     "output_type": "execute_result"
    }
   ],
   "source": [
    "X.head()"
   ]
  },
  {
   "cell_type": "code",
   "execution_count": 15,
   "id": "74905d7e",
   "metadata": {
    "execution": {
     "iopub.execute_input": "2025-02-27T15:48:05.598086Z",
     "iopub.status.busy": "2025-02-27T15:48:05.597730Z",
     "iopub.status.idle": "2025-02-27T15:48:05.601620Z",
     "shell.execute_reply": "2025-02-27T15:48:05.600519Z"
    },
    "papermill": {
     "duration": 0.015942,
     "end_time": "2025-02-27T15:48:05.603226",
     "exception": false,
     "start_time": "2025-02-27T15:48:05.587284",
     "status": "completed"
    },
    "tags": []
   },
   "outputs": [],
   "source": [
    "#Importing statsmodel"
   ]
  },
  {
   "cell_type": "code",
   "execution_count": 16,
   "id": "4211de76",
   "metadata": {
    "execution": {
     "iopub.execute_input": "2025-02-27T15:48:05.623817Z",
     "iopub.status.busy": "2025-02-27T15:48:05.623444Z",
     "iopub.status.idle": "2025-02-27T15:48:07.484811Z",
     "shell.execute_reply": "2025-02-27T15:48:07.483755Z"
    },
    "papermill": {
     "duration": 1.873796,
     "end_time": "2025-02-27T15:48:07.486743",
     "exception": false,
     "start_time": "2025-02-27T15:48:05.612947",
     "status": "completed"
    },
    "tags": []
   },
   "outputs": [],
   "source": [
    "import statsmodels\n",
    "import statsmodels.api as sm"
   ]
  },
  {
   "cell_type": "code",
   "execution_count": 17,
   "id": "7dd20f23",
   "metadata": {
    "execution": {
     "iopub.execute_input": "2025-02-27T15:48:07.507986Z",
     "iopub.status.busy": "2025-02-27T15:48:07.507394Z",
     "iopub.status.idle": "2025-02-27T15:48:07.511482Z",
     "shell.execute_reply": "2025-02-27T15:48:07.510446Z"
    },
    "papermill": {
     "duration": 0.016511,
     "end_time": "2025-02-27T15:48:07.513067",
     "exception": false,
     "start_time": "2025-02-27T15:48:07.496556",
     "status": "completed"
    },
    "tags": []
   },
   "outputs": [],
   "source": [
    "#importing sklearn- sklearn is also known as sci kit learn"
   ]
  },
  {
   "cell_type": "code",
   "execution_count": 18,
   "id": "2765fde3",
   "metadata": {
    "execution": {
     "iopub.execute_input": "2025-02-27T15:48:07.533562Z",
     "iopub.status.busy": "2025-02-27T15:48:07.533226Z",
     "iopub.status.idle": "2025-02-27T15:48:07.756905Z",
     "shell.execute_reply": "2025-02-27T15:48:07.755860Z"
    },
    "papermill": {
     "duration": 0.236038,
     "end_time": "2025-02-27T15:48:07.758911",
     "exception": false,
     "start_time": "2025-02-27T15:48:07.522873",
     "status": "completed"
    },
    "tags": []
   },
   "outputs": [],
   "source": [
    "import sklearn\n",
    "from sklearn.model_selection import train_test_split"
   ]
  },
  {
   "cell_type": "code",
   "execution_count": 19,
   "id": "0d2f013a",
   "metadata": {
    "execution": {
     "iopub.execute_input": "2025-02-27T15:48:07.783043Z",
     "iopub.status.busy": "2025-02-27T15:48:07.782665Z",
     "iopub.status.idle": "2025-02-27T15:48:07.786723Z",
     "shell.execute_reply": "2025-02-27T15:48:07.785669Z"
    },
    "papermill": {
     "duration": 0.018955,
     "end_time": "2025-02-27T15:48:07.788307",
     "exception": false,
     "start_time": "2025-02-27T15:48:07.769352",
     "status": "completed"
    },
    "tags": []
   },
   "outputs": [],
   "source": [
    "#dividing the data into training and test data"
   ]
  },
  {
   "cell_type": "code",
   "execution_count": 20,
   "id": "894ab1bf",
   "metadata": {
    "execution": {
     "iopub.execute_input": "2025-02-27T15:48:07.809720Z",
     "iopub.status.busy": "2025-02-27T15:48:07.809363Z",
     "iopub.status.idle": "2025-02-27T15:48:07.815016Z",
     "shell.execute_reply": "2025-02-27T15:48:07.814121Z"
    },
    "papermill": {
     "duration": 0.018249,
     "end_time": "2025-02-27T15:48:07.816547",
     "exception": false,
     "start_time": "2025-02-27T15:48:07.798298",
     "status": "completed"
    },
    "tags": []
   },
   "outputs": [],
   "source": [
    "X_train,X_test,y_train,y_test =train_test_split(X,y, train_size=0.7, random_state=100 )"
   ]
  },
  {
   "cell_type": "code",
   "execution_count": 21,
   "id": "d9700835",
   "metadata": {
    "execution": {
     "iopub.execute_input": "2025-02-27T15:48:07.837290Z",
     "iopub.status.busy": "2025-02-27T15:48:07.836941Z",
     "iopub.status.idle": "2025-02-27T15:48:07.842993Z",
     "shell.execute_reply": "2025-02-27T15:48:07.841940Z"
    },
    "papermill": {
     "duration": 0.018435,
     "end_time": "2025-02-27T15:48:07.844735",
     "exception": false,
     "start_time": "2025-02-27T15:48:07.826300",
     "status": "completed"
    },
    "tags": []
   },
   "outputs": [
    {
     "name": "stdout",
     "output_type": "stream",
     "text": [
      "(140,)\n",
      "(60,)\n",
      "(140,)\n",
      "(60,)\n"
     ]
    }
   ],
   "source": [
    "print(X_train.shape)\n",
    "print(X_test.shape)\n",
    "print(y_train.shape)\n",
    "print(y_test.shape)"
   ]
  },
  {
   "cell_type": "code",
   "execution_count": 22,
   "id": "8d5dd799",
   "metadata": {
    "execution": {
     "iopub.execute_input": "2025-02-27T15:48:07.866384Z",
     "iopub.status.busy": "2025-02-27T15:48:07.866053Z",
     "iopub.status.idle": "2025-02-27T15:48:07.872434Z",
     "shell.execute_reply": "2025-02-27T15:48:07.871307Z"
    },
    "papermill": {
     "duration": 0.019206,
     "end_time": "2025-02-27T15:48:07.874283",
     "exception": false,
     "start_time": "2025-02-27T15:48:07.855077",
     "status": "completed"
    },
    "tags": []
   },
   "outputs": [],
   "source": [
    "X_train_sm = sm.add_constant(X_train)"
   ]
  },
  {
   "cell_type": "code",
   "execution_count": 23,
   "id": "5fee440b",
   "metadata": {
    "execution": {
     "iopub.execute_input": "2025-02-27T15:48:07.895513Z",
     "iopub.status.busy": "2025-02-27T15:48:07.895149Z",
     "iopub.status.idle": "2025-02-27T15:48:07.904754Z",
     "shell.execute_reply": "2025-02-27T15:48:07.903898Z"
    },
    "papermill": {
     "duration": 0.021694,
     "end_time": "2025-02-27T15:48:07.906249",
     "exception": false,
     "start_time": "2025-02-27T15:48:07.884555",
     "status": "completed"
    },
    "tags": []
   },
   "outputs": [
    {
     "data": {
      "text/html": [
       "<div>\n",
       "<style scoped>\n",
       "    .dataframe tbody tr th:only-of-type {\n",
       "        vertical-align: middle;\n",
       "    }\n",
       "\n",
       "    .dataframe tbody tr th {\n",
       "        vertical-align: top;\n",
       "    }\n",
       "\n",
       "    .dataframe thead th {\n",
       "        text-align: right;\n",
       "    }\n",
       "</style>\n",
       "<table border=\"1\" class=\"dataframe\">\n",
       "  <thead>\n",
       "    <tr style=\"text-align: right;\">\n",
       "      <th></th>\n",
       "      <th>const</th>\n",
       "      <th>TV</th>\n",
       "    </tr>\n",
       "  </thead>\n",
       "  <tbody>\n",
       "    <tr>\n",
       "      <th>74</th>\n",
       "      <td>1.0</td>\n",
       "      <td>213.4</td>\n",
       "    </tr>\n",
       "    <tr>\n",
       "      <th>3</th>\n",
       "      <td>1.0</td>\n",
       "      <td>151.5</td>\n",
       "    </tr>\n",
       "    <tr>\n",
       "      <th>185</th>\n",
       "      <td>1.0</td>\n",
       "      <td>205.0</td>\n",
       "    </tr>\n",
       "    <tr>\n",
       "      <th>26</th>\n",
       "      <td>1.0</td>\n",
       "      <td>142.9</td>\n",
       "    </tr>\n",
       "    <tr>\n",
       "      <th>90</th>\n",
       "      <td>1.0</td>\n",
       "      <td>134.3</td>\n",
       "    </tr>\n",
       "  </tbody>\n",
       "</table>\n",
       "</div>"
      ],
      "text/plain": [
       "     const     TV\n",
       "74     1.0  213.4\n",
       "3      1.0  151.5\n",
       "185    1.0  205.0\n",
       "26     1.0  142.9\n",
       "90     1.0  134.3"
      ]
     },
     "execution_count": 23,
     "metadata": {},
     "output_type": "execute_result"
    }
   ],
   "source": [
    "X_train_sm.head()"
   ]
  },
  {
   "cell_type": "code",
   "execution_count": 24,
   "id": "e5abcdcf",
   "metadata": {
    "execution": {
     "iopub.execute_input": "2025-02-27T15:48:07.927453Z",
     "iopub.status.busy": "2025-02-27T15:48:07.927073Z",
     "iopub.status.idle": "2025-02-27T15:48:07.954198Z",
     "shell.execute_reply": "2025-02-27T15:48:07.953111Z"
    },
    "papermill": {
     "duration": 0.040165,
     "end_time": "2025-02-27T15:48:07.956326",
     "exception": false,
     "start_time": "2025-02-27T15:48:07.916161",
     "status": "completed"
    },
    "tags": []
   },
   "outputs": [],
   "source": [
    "#OLS means Ordinary Least Square\n",
    "lr = sm.OLS(y_train,X_train_sm).fit()"
   ]
  },
  {
   "cell_type": "code",
   "execution_count": 25,
   "id": "8f16969d",
   "metadata": {
    "execution": {
     "iopub.execute_input": "2025-02-27T15:48:07.978611Z",
     "iopub.status.busy": "2025-02-27T15:48:07.978265Z",
     "iopub.status.idle": "2025-02-27T15:48:07.985467Z",
     "shell.execute_reply": "2025-02-27T15:48:07.984310Z"
    },
    "papermill": {
     "duration": 0.020049,
     "end_time": "2025-02-27T15:48:07.987087",
     "exception": false,
     "start_time": "2025-02-27T15:48:07.967038",
     "status": "completed"
    },
    "tags": []
   },
   "outputs": [
    {
     "data": {
      "text/plain": [
       "const    6.948683\n",
       "TV       0.054546\n",
       "dtype: float64"
      ]
     },
     "execution_count": 25,
     "metadata": {},
     "output_type": "execute_result"
    }
   ],
   "source": [
    "lr.params #parameters"
   ]
  },
  {
   "cell_type": "code",
   "execution_count": 26,
   "id": "6a026814",
   "metadata": {
    "execution": {
     "iopub.execute_input": "2025-02-27T15:48:08.010783Z",
     "iopub.status.busy": "2025-02-27T15:48:08.010435Z",
     "iopub.status.idle": "2025-02-27T15:48:08.014108Z",
     "shell.execute_reply": "2025-02-27T15:48:08.013042Z"
    },
    "papermill": {
     "duration": 0.018295,
     "end_time": "2025-02-27T15:48:08.015672",
     "exception": false,
     "start_time": "2025-02-27T15:48:07.997377",
     "status": "completed"
    },
    "tags": []
   },
   "outputs": [],
   "source": [
    "#y = mx+c\n",
    "#y= 0.054546 X +6.948683"
   ]
  },
  {
   "cell_type": "code",
   "execution_count": 27,
   "id": "1c6afff9",
   "metadata": {
    "execution": {
     "iopub.execute_input": "2025-02-27T15:48:08.037151Z",
     "iopub.status.busy": "2025-02-27T15:48:08.036738Z",
     "iopub.status.idle": "2025-02-27T15:48:08.064931Z",
     "shell.execute_reply": "2025-02-27T15:48:08.063750Z"
    },
    "papermill": {
     "duration": 0.041105,
     "end_time": "2025-02-27T15:48:08.066942",
     "exception": false,
     "start_time": "2025-02-27T15:48:08.025837",
     "status": "completed"
    },
    "tags": []
   },
   "outputs": [
    {
     "data": {
      "text/html": [
       "<table class=\"simpletable\">\n",
       "<caption>OLS Regression Results</caption>\n",
       "<tr>\n",
       "  <th>Dep. Variable:</th>          <td>Sales</td>      <th>  R-squared:         </th> <td>   0.816</td>\n",
       "</tr>\n",
       "<tr>\n",
       "  <th>Model:</th>                   <td>OLS</td>       <th>  Adj. R-squared:    </th> <td>   0.814</td>\n",
       "</tr>\n",
       "<tr>\n",
       "  <th>Method:</th>             <td>Least Squares</td>  <th>  F-statistic:       </th> <td>   611.2</td>\n",
       "</tr>\n",
       "<tr>\n",
       "  <th>Date:</th>             <td>Thu, 27 Feb 2025</td> <th>  Prob (F-statistic):</th> <td>1.52e-52</td>\n",
       "</tr>\n",
       "<tr>\n",
       "  <th>Time:</th>                 <td>15:48:08</td>     <th>  Log-Likelihood:    </th> <td> -321.12</td>\n",
       "</tr>\n",
       "<tr>\n",
       "  <th>No. Observations:</th>      <td>   140</td>      <th>  AIC:               </th> <td>   646.2</td>\n",
       "</tr>\n",
       "<tr>\n",
       "  <th>Df Residuals:</th>          <td>   138</td>      <th>  BIC:               </th> <td>   652.1</td>\n",
       "</tr>\n",
       "<tr>\n",
       "  <th>Df Model:</th>              <td>     1</td>      <th>                     </th>     <td> </td>   \n",
       "</tr>\n",
       "<tr>\n",
       "  <th>Covariance Type:</th>      <td>nonrobust</td>    <th>                     </th>     <td> </td>   \n",
       "</tr>\n",
       "</table>\n",
       "<table class=\"simpletable\">\n",
       "<tr>\n",
       "    <td></td>       <th>coef</th>     <th>std err</th>      <th>t</th>      <th>P>|t|</th>  <th>[0.025</th>    <th>0.975]</th>  \n",
       "</tr>\n",
       "<tr>\n",
       "  <th>const</th> <td>    6.9487</td> <td>    0.385</td> <td>   18.068</td> <td> 0.000</td> <td>    6.188</td> <td>    7.709</td>\n",
       "</tr>\n",
       "<tr>\n",
       "  <th>TV</th>    <td>    0.0545</td> <td>    0.002</td> <td>   24.722</td> <td> 0.000</td> <td>    0.050</td> <td>    0.059</td>\n",
       "</tr>\n",
       "</table>\n",
       "<table class=\"simpletable\">\n",
       "<tr>\n",
       "  <th>Omnibus:</th>       <td> 0.027</td> <th>  Durbin-Watson:     </th> <td>   2.196</td>\n",
       "</tr>\n",
       "<tr>\n",
       "  <th>Prob(Omnibus):</th> <td> 0.987</td> <th>  Jarque-Bera (JB):  </th> <td>   0.150</td>\n",
       "</tr>\n",
       "<tr>\n",
       "  <th>Skew:</th>          <td>-0.006</td> <th>  Prob(JB):          </th> <td>   0.928</td>\n",
       "</tr>\n",
       "<tr>\n",
       "  <th>Kurtosis:</th>      <td> 2.840</td> <th>  Cond. No.          </th> <td>    328.</td>\n",
       "</tr>\n",
       "</table><br/><br/>Notes:<br/>[1] Standard Errors assume that the covariance matrix of the errors is correctly specified."
      ],
      "text/latex": [
       "\\begin{center}\n",
       "\\begin{tabular}{lclc}\n",
       "\\toprule\n",
       "\\textbf{Dep. Variable:}    &      Sales       & \\textbf{  R-squared:         } &     0.816   \\\\\n",
       "\\textbf{Model:}            &       OLS        & \\textbf{  Adj. R-squared:    } &     0.814   \\\\\n",
       "\\textbf{Method:}           &  Least Squares   & \\textbf{  F-statistic:       } &     611.2   \\\\\n",
       "\\textbf{Date:}             & Thu, 27 Feb 2025 & \\textbf{  Prob (F-statistic):} &  1.52e-52   \\\\\n",
       "\\textbf{Time:}             &     15:48:08     & \\textbf{  Log-Likelihood:    } &   -321.12   \\\\\n",
       "\\textbf{No. Observations:} &         140      & \\textbf{  AIC:               } &     646.2   \\\\\n",
       "\\textbf{Df Residuals:}     &         138      & \\textbf{  BIC:               } &     652.1   \\\\\n",
       "\\textbf{Df Model:}         &           1      & \\textbf{                     } &             \\\\\n",
       "\\textbf{Covariance Type:}  &    nonrobust     & \\textbf{                     } &             \\\\\n",
       "\\bottomrule\n",
       "\\end{tabular}\n",
       "\\begin{tabular}{lcccccc}\n",
       "               & \\textbf{coef} & \\textbf{std err} & \\textbf{t} & \\textbf{P$> |$t$|$} & \\textbf{[0.025} & \\textbf{0.975]}  \\\\\n",
       "\\midrule\n",
       "\\textbf{const} &       6.9487  &        0.385     &    18.068  &         0.000        &        6.188    &        7.709     \\\\\n",
       "\\textbf{TV}    &       0.0545  &        0.002     &    24.722  &         0.000        &        0.050    &        0.059     \\\\\n",
       "\\bottomrule\n",
       "\\end{tabular}\n",
       "\\begin{tabular}{lclc}\n",
       "\\textbf{Omnibus:}       &  0.027 & \\textbf{  Durbin-Watson:     } &    2.196  \\\\\n",
       "\\textbf{Prob(Omnibus):} &  0.987 & \\textbf{  Jarque-Bera (JB):  } &    0.150  \\\\\n",
       "\\textbf{Skew:}          & -0.006 & \\textbf{  Prob(JB):          } &    0.928  \\\\\n",
       "\\textbf{Kurtosis:}      &  2.840 & \\textbf{  Cond. No.          } &     328.  \\\\\n",
       "\\bottomrule\n",
       "\\end{tabular}\n",
       "%\\caption{OLS Regression Results}\n",
       "\\end{center}\n",
       "\n",
       "Notes: \\newline\n",
       " [1] Standard Errors assume that the covariance matrix of the errors is correctly specified."
      ],
      "text/plain": [
       "<class 'statsmodels.iolib.summary.Summary'>\n",
       "\"\"\"\n",
       "                            OLS Regression Results                            \n",
       "==============================================================================\n",
       "Dep. Variable:                  Sales   R-squared:                       0.816\n",
       "Model:                            OLS   Adj. R-squared:                  0.814\n",
       "Method:                 Least Squares   F-statistic:                     611.2\n",
       "Date:                Thu, 27 Feb 2025   Prob (F-statistic):           1.52e-52\n",
       "Time:                        15:48:08   Log-Likelihood:                -321.12\n",
       "No. Observations:                 140   AIC:                             646.2\n",
       "Df Residuals:                     138   BIC:                             652.1\n",
       "Df Model:                           1                                         \n",
       "Covariance Type:            nonrobust                                         \n",
       "==============================================================================\n",
       "                 coef    std err          t      P>|t|      [0.025      0.975]\n",
       "------------------------------------------------------------------------------\n",
       "const          6.9487      0.385     18.068      0.000       6.188       7.709\n",
       "TV             0.0545      0.002     24.722      0.000       0.050       0.059\n",
       "==============================================================================\n",
       "Omnibus:                        0.027   Durbin-Watson:                   2.196\n",
       "Prob(Omnibus):                  0.987   Jarque-Bera (JB):                0.150\n",
       "Skew:                          -0.006   Prob(JB):                        0.928\n",
       "Kurtosis:                       2.840   Cond. No.                         328.\n",
       "==============================================================================\n",
       "\n",
       "Notes:\n",
       "[1] Standard Errors assume that the covariance matrix of the errors is correctly specified.\n",
       "\"\"\""
      ]
     },
     "execution_count": 27,
     "metadata": {},
     "output_type": "execute_result"
    }
   ],
   "source": [
    "lr.summary()"
   ]
  },
  {
   "cell_type": "code",
   "execution_count": 28,
   "id": "7139c8e1",
   "metadata": {
    "execution": {
     "iopub.execute_input": "2025-02-27T15:48:08.090552Z",
     "iopub.status.busy": "2025-02-27T15:48:08.090124Z",
     "iopub.status.idle": "2025-02-27T15:48:08.284569Z",
     "shell.execute_reply": "2025-02-27T15:48:08.283501Z"
    },
    "papermill": {
     "duration": 0.208328,
     "end_time": "2025-02-27T15:48:08.286405",
     "exception": false,
     "start_time": "2025-02-27T15:48:08.078077",
     "status": "completed"
    },
    "tags": []
   },
   "outputs": [
    {
     "data": {
      "text/plain": [
       "[]"
      ]
     },
     "execution_count": 28,
     "metadata": {},
     "output_type": "execute_result"
    },
    {
     "data": {
      "image/png": "[encoded data removed]",
      "text/plain": [
       "<Figure size 640x480 with 1 Axes>"
      ]
     },
     "metadata": {},
     "output_type": "display_data"
    }
   ],
   "source": [
    "plt.scatter(X_train,y_train)\n",
    "plt.plot(X_train,0.054546*X_train+6.948683,\"r\")\n",
    "plt.plot()"
   ]
  },
  {
   "cell_type": "code",
   "execution_count": 29,
   "id": "5b7ab337",
   "metadata": {
    "execution": {
     "iopub.execute_input": "2025-02-27T15:48:08.310460Z",
     "iopub.status.busy": "2025-02-27T15:48:08.310122Z",
     "iopub.status.idle": "2025-02-27T15:48:08.313933Z",
     "shell.execute_reply": "2025-02-27T15:48:08.313055Z"
    },
    "papermill": {
     "duration": 0.017548,
     "end_time": "2025-02-27T15:48:08.315569",
     "exception": false,
     "start_time": "2025-02-27T15:48:08.298021",
     "status": "completed"
    },
    "tags": []
   },
   "outputs": [],
   "source": [
    "# we know that error= original value- predicticted value\n",
    "# in this case= y_train-y_predicted\n",
    "#to find the value of y_predicted"
   ]
  },
  {
   "cell_type": "code",
   "execution_count": 30,
   "id": "207f261d",
   "metadata": {
    "execution": {
     "iopub.execute_input": "2025-02-27T15:48:08.338790Z",
     "iopub.status.busy": "2025-02-27T15:48:08.338450Z",
     "iopub.status.idle": "2025-02-27T15:48:08.342987Z",
     "shell.execute_reply": "2025-02-27T15:48:08.342121Z"
    },
    "papermill": {
     "duration": 0.017923,
     "end_time": "2025-02-27T15:48:08.344479",
     "exception": false,
     "start_time": "2025-02-27T15:48:08.326556",
     "status": "completed"
    },
    "tags": []
   },
   "outputs": [],
   "source": [
    "y_predicted =lr.predict(X_train_sm)"
   ]
  },
  {
   "cell_type": "code",
   "execution_count": 31,
   "id": "9ae02943",
   "metadata": {
    "execution": {
     "iopub.execute_input": "2025-02-27T15:48:08.367507Z",
     "iopub.status.busy": "2025-02-27T15:48:08.367160Z",
     "iopub.status.idle": "2025-02-27T15:48:08.372054Z",
     "shell.execute_reply": "2025-02-27T15:48:08.370806Z"
    },
    "papermill": {
     "duration": 0.018313,
     "end_time": "2025-02-27T15:48:08.373745",
     "exception": false,
     "start_time": "2025-02-27T15:48:08.355432",
     "status": "completed"
    },
    "tags": []
   },
   "outputs": [],
   "source": [
    "res= (y_train-y_predicted)"
   ]
  },
  {
   "cell_type": "code",
   "execution_count": 32,
   "id": "7058e2a1",
   "metadata": {
    "execution": {
     "iopub.execute_input": "2025-02-27T15:48:08.397100Z",
     "iopub.status.busy": "2025-02-27T15:48:08.396691Z",
     "iopub.status.idle": "2025-02-27T15:48:08.400550Z",
     "shell.execute_reply": "2025-02-27T15:48:08.399657Z"
    },
    "papermill": {
     "duration": 0.017366,
     "end_time": "2025-02-27T15:48:08.402276",
     "exception": false,
     "start_time": "2025-02-27T15:48:08.384910",
     "status": "completed"
    },
    "tags": []
   },
   "outputs": [],
   "source": [
    "#we know that the error terms should be normally distributed"
   ]
  },
  {
   "cell_type": "code",
   "execution_count": 33,
   "id": "50f23fa1",
   "metadata": {
    "execution": {
     "iopub.execute_input": "2025-02-27T15:48:08.425832Z",
     "iopub.status.busy": "2025-02-27T15:48:08.425461Z",
     "iopub.status.idle": "2025-02-27T15:48:08.645905Z",
     "shell.execute_reply": "2025-02-27T15:48:08.644769Z"
    },
    "papermill": {
     "duration": 0.234459,
     "end_time": "2025-02-27T15:48:08.647729",
     "exception": false,
     "start_time": "2025-02-27T15:48:08.413270",
     "status": "completed"
    },
    "tags": []
   },
   "outputs": [
    {
     "data": {
      "image/png": "[encoded data removed]",
      "text/plain": [
       "<Figure size 640x480 with 1 Axes>"
      ]
     },
     "metadata": {},
     "output_type": "display_data"
    }
   ],
   "source": [
    "sns.distplot(res, bins=10)\n",
    "plt.xlabel(\"Error Terms\")\n",
    "plt.show()"
   ]
  },
  {
   "cell_type": "code",
   "execution_count": 34,
   "id": "ba1bd5ac",
   "metadata": {
    "execution": {
     "iopub.execute_input": "2025-02-27T15:48:08.673078Z",
     "iopub.status.busy": "2025-02-27T15:48:08.672665Z",
     "iopub.status.idle": "2025-02-27T15:48:08.676568Z",
     "shell.execute_reply": "2025-02-27T15:48:08.675633Z"
    },
    "papermill": {
     "duration": 0.01846,
     "end_time": "2025-02-27T15:48:08.678203",
     "exception": false,
     "start_time": "2025-02-27T15:48:08.659743",
     "status": "completed"
    },
    "tags": []
   },
   "outputs": [],
   "source": [
    "#the error terms are normally distributed"
   ]
  },
  {
   "cell_type": "code",
   "execution_count": 35,
   "id": "42d10afa",
   "metadata": {
    "execution": {
     "iopub.execute_input": "2025-02-27T15:48:08.702633Z",
     "iopub.status.busy": "2025-02-27T15:48:08.702226Z",
     "iopub.status.idle": "2025-02-27T15:48:08.706197Z",
     "shell.execute_reply": "2025-02-27T15:48:08.705208Z"
    },
    "papermill": {
     "duration": 0.018252,
     "end_time": "2025-02-27T15:48:08.707930",
     "exception": false,
     "start_time": "2025-02-27T15:48:08.689678",
     "status": "completed"
    },
    "tags": []
   },
   "outputs": [],
   "source": [
    "#the accuracy on training data is coming around 81% now let's perform it on test data"
   ]
  },
  {
   "cell_type": "code",
   "execution_count": 36,
   "id": "d38e1d2a",
   "metadata": {
    "execution": {
     "iopub.execute_input": "2025-02-27T15:48:08.732727Z",
     "iopub.status.busy": "2025-02-27T15:48:08.732366Z",
     "iopub.status.idle": "2025-02-27T15:48:08.738595Z",
     "shell.execute_reply": "2025-02-27T15:48:08.737615Z"
    },
    "papermill": {
     "duration": 0.020548,
     "end_time": "2025-02-27T15:48:08.740266",
     "exception": false,
     "start_time": "2025-02-27T15:48:08.719718",
     "status": "completed"
    },
    "tags": []
   },
   "outputs": [],
   "source": [
    "X_test_sm=sm.add_constant(X_test)"
   ]
  },
  {
   "cell_type": "code",
   "execution_count": 37,
   "id": "0d8cced8",
   "metadata": {
    "execution": {
     "iopub.execute_input": "2025-02-27T15:48:08.764663Z",
     "iopub.status.busy": "2025-02-27T15:48:08.764238Z",
     "iopub.status.idle": "2025-02-27T15:48:08.768921Z",
     "shell.execute_reply": "2025-02-27T15:48:08.767970Z"
    },
    "papermill": {
     "duration": 0.018819,
     "end_time": "2025-02-27T15:48:08.770715",
     "exception": false,
     "start_time": "2025-02-27T15:48:08.751896",
     "status": "completed"
    },
    "tags": []
   },
   "outputs": [],
   "source": [
    "y_test_pred = lr.predict(X_test_sm)"
   ]
  },
  {
   "cell_type": "code",
   "execution_count": 38,
   "id": "d5d73eff",
   "metadata": {
    "execution": {
     "iopub.execute_input": "2025-02-27T15:48:08.795777Z",
     "iopub.status.busy": "2025-02-27T15:48:08.795407Z",
     "iopub.status.idle": "2025-02-27T15:48:08.799740Z",
     "shell.execute_reply": "2025-02-27T15:48:08.798508Z"
    },
    "papermill": {
     "duration": 0.019128,
     "end_time": "2025-02-27T15:48:08.801565",
     "exception": false,
     "start_time": "2025-02-27T15:48:08.782437",
     "status": "completed"
    },
    "tags": []
   },
   "outputs": [],
   "source": [
    "from sklearn.metrics import mean_squared_error\n",
    "from sklearn.metrics import r2_score"
   ]
  },
  {
   "cell_type": "code",
   "execution_count": 39,
   "id": "c4cfbfe3",
   "metadata": {
    "execution": {
     "iopub.execute_input": "2025-02-27T15:48:08.826941Z",
     "iopub.status.busy": "2025-02-27T15:48:08.826546Z",
     "iopub.status.idle": "2025-02-27T15:48:08.833398Z",
     "shell.execute_reply": "2025-02-27T15:48:08.832187Z"
    },
    "papermill": {
     "duration": 0.021612,
     "end_time": "2025-02-27T15:48:08.834966",
     "exception": false,
     "start_time": "2025-02-27T15:48:08.813354",
     "status": "completed"
    },
    "tags": []
   },
   "outputs": [
    {
     "data": {
      "text/plain": [
       "2.019296008966233"
      ]
     },
     "execution_count": 39,
     "metadata": {},
     "output_type": "execute_result"
    }
   ],
   "source": [
    "np.sqrt(mean_squared_error(y_test,y_test_pred))"
   ]
  },
  {
   "cell_type": "code",
   "execution_count": 40,
   "id": "acab497f",
   "metadata": {
    "execution": {
     "iopub.execute_input": "2025-02-27T15:48:08.860435Z",
     "iopub.status.busy": "2025-02-27T15:48:08.860057Z",
     "iopub.status.idle": "2025-02-27T15:48:08.866972Z",
     "shell.execute_reply": "2025-02-27T15:48:08.865928Z"
    },
    "papermill": {
     "duration": 0.021316,
     "end_time": "2025-02-27T15:48:08.868546",
     "exception": false,
     "start_time": "2025-02-27T15:48:08.847230",
     "status": "completed"
    },
    "tags": []
   },
   "outputs": [
    {
     "data": {
      "text/plain": [
       "0.7921031601245658"
      ]
     },
     "execution_count": 40,
     "metadata": {},
     "output_type": "execute_result"
    }
   ],
   "source": [
    "r2_score(y_test,y_test_pred)"
   ]
  }
 ],
 "metadata": {
  "kaggle": {
   "accelerator": "none",
   "dataSources": [
    {
     "datasetId": 6754904,
     "sourceId": 10872227,
     "sourceType": "datasetVersion"
    }
   ],
   "dockerImageVersionId": 30918,
   "isGpuEnabled": false,
   "isInternetEnabled": true,
   "language": "python",
   "sourceType": "notebook"
  },
  "kernelspec": {
   "display_name": "Python 3",
   "language": "python",
   "name": "python3"
  },
  "language_info": {
   "codemirror_mode": {
    "name": "ipython",
    "version": 3
   },
   "file_extension": ".py",
   "mimetype": "text/x-python",
   "name": "python",
   "nbconvert_exporter": "python",
   "pygments_lexer": "ipython3",
   "version": "3.10.12"
  },
  "papermill": {
   "default_parameters": {},
   "duration": 16.431729,
   "end_time": "2025-02-27T15:48:09.701974",
   "environment_variables": {},
   "exception": null,
   "input_path": "__notebook__.ipynb",
   "output_path": "__notebook__.ipynb",
   "parameters": {},
   "start_time": "2025-02-27T15:47:53.270245",
   "version": "2.6.0"
  }
 },
 "nbformat": 4,
 "nbformat_minor": 5
}
